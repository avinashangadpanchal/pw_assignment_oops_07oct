{
  "nbformat": 4,
  "nbformat_minor": 0,
  "metadata": {
    "colab": {
      "provenance": []
    },
    "kernelspec": {
      "name": "python3",
      "display_name": "Python 3"
    },
    "language_info": {
      "name": "python"
    }
  },
  "cells": [
    {
      "cell_type": "code",
      "execution_count": 7,
      "metadata": {
        "colab": {
          "base_uri": "https://localhost:8080/"
        },
        "id": "VQ4nHU2kMUF1",
        "outputId": "aeefbd59-72b2-411f-fa5c-e79f8d50b2f8"
      },
      "outputs": [
        {
          "output_type": "stream",
          "name": "stdout",
          "text": [
            "Deposited $1000.00. New balance: $3000.00\n",
            "3000\n",
            "Withdrew $500.00. New balance: $2500.00\n",
            "2500\n"
          ]
        }
      ],
      "source": [
        "# Problem 1: Bank Account Create a class representing a bank account with attributes like account number, account holder name, and balance. Implement methods to deposit and withdraw money from the account.\n",
        "\n",
        "class BankAccount:\n",
        "  def __init__(self, account_number, account_holder_name, balance=0.0):\n",
        "    self.account_number = account_number\n",
        "    self.account_holder_name = account_holder_name\n",
        "    self.balance = balance\n",
        "\n",
        "  def deposit(self, amount):\n",
        "    if amount > 0:\n",
        "      self.balance += amount\n",
        "      print(f\"Deposited ${amount:.2f}. New balance: ${self.balance:.2f}\")\n",
        "    else:\n",
        "      print(\"Invalid deposit amount.\")\n",
        "\n",
        "  def withdraw(self, amount):\n",
        "    if amount > 0 and amount <= self.balance:\n",
        "      self.balance -= amount\n",
        "      print(f\"Withdrew ${amount:.2f}. New balance: ${self.balance:.2f}\")\n",
        "    else:\n",
        "      print(\"Insufficient funds or invalid withdrawal amount.\")\n",
        "\n",
        "avi = BankAccount(22315,\"avi Panchal\",2000)\n",
        "avi.deposit(1000)\n",
        "print(avi.balance)\n",
        "avi.withdraw(500)\n",
        "print(avi.balance)\n"
      ]
    },
    {
      "cell_type": "code",
      "source": [
        "# Problem 2: Employee Management Create a class representing an employee with attributes like employee ID, name, and salary. Implement methods to calculate the yearly bonus and display employee details.\n",
        "\n",
        "class Employee:\n",
        "  def __init__(self, employee_id, name, salary):\n",
        "    self.employee_id = employee_id\n",
        "    self.name = name\n",
        "    self.salary = salary\n",
        "\n",
        "  def calculate_yearly_bonus(self, bonus_percentage):\n",
        "    bonus = (bonus_percentage / 100) * self.salary\n",
        "    return bonus\n",
        "\n",
        "  def display_employee_details(self):\n",
        "    print(f\"Employee ID: {self.employee_id}\")\n",
        "    print(f\"Name: {self.name}\")\n",
        "    print(f\"Salary: ${self.salary:.2f}\")\n",
        "\n",
        "avi=Employee(1226,\"avinash\",25000)\n",
        "print(avi.calculate_yearly_bonus(10))\n",
        "avi.display_employee_details()\n"
      ],
      "metadata": {
        "colab": {
          "base_uri": "https://localhost:8080/"
        },
        "id": "Y5JzgmKGMdi4",
        "outputId": "3fa6d2c3-a9ab-4811-9305-385c026a1b82"
      },
      "execution_count": 11,
      "outputs": [
        {
          "output_type": "stream",
          "name": "stdout",
          "text": [
            "2500.0\n",
            "Employee ID: 1226\n",
            "Name: avinash\n",
            "Salary: $25000.00\n"
          ]
        }
      ]
    },
    {
      "cell_type": "code",
      "source": [
        "# Problem 3: Vehicle Rental Create a class representing a vehicle rental system. Implement methods to rent a vehicle, return a vehicle, and display available vehicles.\n",
        "\n",
        "class VehicleRental:\n",
        "  def __init__(self):\n",
        "    self.available_vehicles = {}\n",
        "\n",
        "  def rent_vehicle(self, vehicle_id, renter_name):\n",
        "    if vehicle_id in self.available_vehicles:\n",
        "      self.available_vehicles.pop(vehicle_id)\n",
        "      print(f\"Vehicle {vehicle_id} rented to {renter_name}.\")\n",
        "    else:\n",
        "      print(f\"Vehicle {vehicle_id} is not available.\")\n",
        "\n",
        "  def return_vehicle(self, vehicle_id):\n",
        "    self.available_vehicles[vehicle_id] = True\n",
        "    print(f\"Vehicle {vehicle_id} returned.\")\n",
        "\n",
        "  def display_available_vehicles(self):\n",
        "    if self.available_vehicles:\n",
        "      print(\"Available vehicles:\")\n",
        "      for vehicle_id in self.available_vehicles:\n",
        "        print(f\"- {vehicle_id}\")\n",
        "    else:\n",
        "      print(\"No vehicles available.\")\n",
        "\n",
        "#test\n",
        "rental_system = VehicleRental()\n",
        "rental_system.available_vehicles = {\"123\": True, \"456\": True}\n",
        "rental_system.display_available_vehicles()\n",
        "rental_system.rent_vehicle(\"123\", \"John Doe\")\n",
        "rental_system.display_available_vehicles()\n",
        "rental_system.return_vehicle(\"123\")\n",
        "rental_system.display_available_vehicles()\n",
        "\n"
      ],
      "metadata": {
        "colab": {
          "base_uri": "https://localhost:8080/"
        },
        "id": "oGIcfenVMdtK",
        "outputId": "6f27cbf0-cedd-4b91-ead6-283545187dcc"
      },
      "execution_count": 14,
      "outputs": [
        {
          "output_type": "stream",
          "name": "stdout",
          "text": [
            "Available vehicles:\n",
            "- 123\n",
            "- 456\n",
            "Vehicle 123 rented to John Doe.\n",
            "Available vehicles:\n",
            "- 456\n",
            "Vehicle 123 returned.\n",
            "Available vehicles:\n",
            "- 456\n",
            "- 123\n"
          ]
        }
      ]
    },
    {
      "cell_type": "code",
      "source": [
        "# Problem 4: Library Catalog Create classes representing a library and a book. Implement methods to add books to the library, borrow books, and display available books.\n",
        "\n",
        "class Book:\n",
        "  def __init__(self, book_id, title, author):\n",
        "    self.book_id = book_id\n",
        "    self.title = title\n",
        "    self.author = author\n",
        "    self.is_borrowed = False\n",
        "\n",
        "class Library:\n",
        "  def __init__(self):\n",
        "    self.books = {}\n",
        "\n",
        "  def add_book(self, book):\n",
        "    self.books[book.book_id] = book\n",
        "\n",
        "  def borrow_book(self, book_id):\n",
        "    if book_id in self.books and not self.books[book_id].is_borrowed:\n",
        "      self.books[book_id].is_borrowed = True\n",
        "      print(f\"Borrowed book: {book_id} ({self.books[book_id].title})\")\n",
        "    else:\n",
        "      print(\"Book not found or already borrowed.\")\n",
        "\n",
        "  def return_book(self, book_id):\n",
        "    if book_id in self.books and self.books[book_id].is_borrowed:\n",
        "      self.books[book_id].is_borrowed = False\n",
        "      print(f\"Returned book: {book_id} ({self.books[book_id].title})\")\n",
        "    else:\n",
        "      print(\"Book not found or not currently borrowed.\")\n",
        "\n",
        "  def display_available_books(self):\n",
        "    available_books = [book for book in self.books.values() if not book.is_borrowed]\n",
        "    if available_books:\n",
        "      print(\"Available books:\")\n",
        "      for book in available_books:\n",
        "        print(f\"- {book.book_id} ({book.title} by {book.author})\")\n",
        "    else:\n",
        "      print(\"No books available.\")\n",
        "\n",
        "# Test the classes and methods\n",
        "library = Library()\n",
        "\n",
        "# Add some books\n",
        "book1 = Book(\"123\", \"The Lord of the Rings\", \"J.R.R. Tolkien\")\n",
        "book2 = Book(\"456\", \"Pride and Prejudice\", \"Jane Austen\")\n",
        "library.add_book(book1)\n",
        "library.add_book(book2)\n",
        "\n",
        "# Display available books\n",
        "library.display_available_books()\n",
        "\n",
        "# Borrow a book\n",
        "library.borrow_book(\"123\")\n",
        "\n",
        "# Display available books again\n",
        "library.display_available_books()\n",
        "\n",
        "# Return the book\n",
        "library.return_book(\"123\")\n",
        "\n",
        "# Display available books again\n",
        "library.display_available_books()\n"
      ],
      "metadata": {
        "colab": {
          "base_uri": "https://localhost:8080/"
        },
        "id": "RWXx-sCbMd0c",
        "outputId": "78969067-094f-4790-e37e-993141c2c46f"
      },
      "execution_count": 15,
      "outputs": [
        {
          "output_type": "stream",
          "name": "stdout",
          "text": [
            "Available books:\n",
            "- 123 (The Lord of the Rings by J.R.R. Tolkien)\n",
            "- 456 (Pride and Prejudice by Jane Austen)\n",
            "Borrowed book: 123 (The Lord of the Rings)\n",
            "Available books:\n",
            "- 456 (Pride and Prejudice by Jane Austen)\n",
            "Returned book: 123 (The Lord of the Rings)\n",
            "Available books:\n",
            "- 123 (The Lord of the Rings by J.R.R. Tolkien)\n",
            "- 456 (Pride and Prejudice by Jane Austen)\n"
          ]
        }
      ]
    },
    {
      "cell_type": "code",
      "source": [
        "# Problem 5: Product Inventory Create classes representing a product and an inventory system. Implement methods to add products to the inventory, update product quantity, and display available products.\n",
        "\n",
        "class Product:\n",
        "  def __init__(self, product_id, name, price, quantity):\n",
        "    self.product_id = product_id\n",
        "    self.name = name\n",
        "    self.price = price\n",
        "    self.quantity = quantity\n",
        "\n",
        "class Inventory:\n",
        "  def __init__(self):\n",
        "    self.products = {}\n",
        "\n",
        "  def add_product(self, product):\n",
        "    if product.product_id not in self.products:\n",
        "      self.products[product.product_id] = product\n",
        "    else:\n",
        "      print(\"Product with this ID already exists.\")\n",
        "\n",
        "  def update_product_quantity(self, product_id, quantity_change):\n",
        "    if product_id in self.products:\n",
        "      self.products[product_id].quantity += quantity_change\n",
        "      if self.products[product_id].quantity < 0:\n",
        "        self.products[product_id].quantity = 0  # Prevent negative quantity\n",
        "    else:\n",
        "      print(\"Product not found.\")\n",
        "\n",
        "  def display_available_products(self):\n",
        "    if self.products:\n",
        "      print(\"Available products:\")\n",
        "      for product in self.products.values():\n",
        "        if product.quantity > 0:\n",
        "          print(f\"- {product.product_id} ({product.name}): {product.quantity} in stock\")\n",
        "    else:\n",
        "      print(\"No products available.\")\n",
        "\n",
        "# Test the classes and methods\n",
        "inventory = Inventory()\n",
        "\n",
        "# Add some products\n",
        "product1 = Product(\"123\", \"Laptop\", 1200.00, 10)\n",
        "product2 = Product(\"456\", \"Mouse\", 25.00, 50)\n",
        "inventory.add_product(product1)\n",
        "inventory.add_product(product2)\n",
        "\n",
        "# Display available products\n",
        "inventory.display_available_products()\n",
        "\n",
        "# Update product quantity\n",
        "inventory.update_product_quantity(\"123\", -5)\n",
        "\n",
        "# Display available products again\n",
        "inventory.display_available_products()\n"
      ],
      "metadata": {
        "colab": {
          "base_uri": "https://localhost:8080/"
        },
        "id": "SfC0nXCzMd7b",
        "outputId": "40977dbc-654e-49f2-d984-04eb2212f8ed"
      },
      "execution_count": 16,
      "outputs": [
        {
          "output_type": "stream",
          "name": "stdout",
          "text": [
            "Available products:\n",
            "- 123 (Laptop): 10 in stock\n",
            "- 456 (Mouse): 50 in stock\n",
            "Available products:\n",
            "- 123 (Laptop): 5 in stock\n",
            "- 456 (Mouse): 50 in stock\n"
          ]
        }
      ]
    },
    {
      "cell_type": "code",
      "source": [
        "# Problem 6: Shape Calculation Create a class representing a shape with attributes like length, width, and height. Implement methods to calculate the area and perimeter of the shape.\n",
        "\n",
        "class Shape:\n",
        "  def __init__(self, length=0, width=0, height=0):\n",
        "    self.length = length\n",
        "    self.width = width\n",
        "    self.height = height\n",
        "\n",
        "  def calculate_area(self):\n",
        "    raise NotImplementedError(\"Subclasses must implement this method\")\n",
        "\n",
        "  def calculate_perimeter(self):\n",
        "    raise NotImplementedError(\"Subclasses must implement this method\")\n",
        "\n",
        "class Rectangle(Shape):\n",
        "  def calculate_area(self):\n",
        "    return self.length * self.width\n",
        "\n",
        "  def calculate_perimeter(self):\n",
        "    return 2 * (self.length + self.width)\n",
        "\n",
        "class Triangle(Shape):\n",
        "  def calculate_area(self):\n",
        "    # Assuming it's a right triangle\n",
        "    return 0.5 * self.length * self.width\n",
        "\n",
        "  def calculate_perimeter(self):\n",
        "    # Assuming it's a right triangle\n",
        "    hypotenuse = (self.length**2 + self.width**2)**0.5\n",
        "    return self.length + self.width + hypotenuse\n",
        "\n",
        "# Test the classes and methods\n",
        "rectangle = Rectangle(5, 10)\n",
        "print(\"Rectangle Area:\", rectangle.calculate_area())\n",
        "print(\"Rectangle Perimeter:\", rectangle.calculate_perimeter())\n",
        "\n",
        "triangle = Triangle(3, 4)\n",
        "print(\"Triangle Area:\", triangle.calculate_area())\n",
        "print(\"Triangle Perimeter:\", triangle.calculate_perimeter())\n"
      ],
      "metadata": {
        "colab": {
          "base_uri": "https://localhost:8080/"
        },
        "id": "0WpZqlzjMeBu",
        "outputId": "d43db476-56b6-4f95-a5be-b541bae6cb49"
      },
      "execution_count": 21,
      "outputs": [
        {
          "output_type": "stream",
          "name": "stdout",
          "text": [
            "Rectangle Area: 50\n",
            "Rectangle Perimeter: 30\n",
            "Triangle Area: 6.0\n",
            "Triangle Perimeter: 12.0\n"
          ]
        }
      ]
    },
    {
      "cell_type": "code",
      "source": [
        "# Problem 7: Student Management Create a class representing a student with attributes like student ID, name, and grades. Implement methods to calculate the average grade and display student details.\n",
        "\n",
        "class Student:\n",
        "  def __init__(self, student_id, name, grades=[]):\n",
        "    self.student_id = student_id\n",
        "    self.name = name\n",
        "    self.grades = grades\n",
        "\n",
        "  def calculate_average_grade(self):\n",
        "    if self.grades:\n",
        "      return sum(self.grades) / len(self.grades)\n",
        "    else:\n",
        "      return 0\n",
        "\n",
        "  def display_student_details(self):\n",
        "    print(f\"Student ID: {self.student_id}\")\n",
        "    print(f\"Name: {self.name}\")\n",
        "    print(f\"Grades: {self.grades}\")\n",
        "    print(f\"Average Grade: {self.calculate_average_grade():.2f}\")\n",
        "\n",
        "# Test the class and methods\n",
        "student = Student(\"123\", \"Jane Doe\", [85, 90, 78, 92])\n",
        "student.display_student_details()\n"
      ],
      "metadata": {
        "colab": {
          "base_uri": "https://localhost:8080/"
        },
        "id": "uEb0PUujMeIH",
        "outputId": "30f82e21-3497-4356-f7e9-256227c52e7e"
      },
      "execution_count": 22,
      "outputs": [
        {
          "output_type": "stream",
          "name": "stdout",
          "text": [
            "Student ID: 123\n",
            "Name: Jane Doe\n",
            "Grades: [85, 90, 78, 92]\n",
            "Average Grade: 86.25\n"
          ]
        }
      ]
    },
    {
      "cell_type": "code",
      "source": [
        "# Problem 8: Email Management Create a class representing an email with attributes like sender, recipient, and subject. Implement methods to send an email and display email details.\n",
        "\n",
        "class Email:\n",
        "  def __init__(self, sender, recipient, subject, message):\n",
        "    self.sender = sender\n",
        "    self.recipient = recipient\n",
        "    self.subject = subject\n",
        "    self.message = message\n",
        "\n",
        "  def send_email(self):\n",
        "    # In a real application, you would use an email library like smtplib to send the email\n",
        "    print(f\"Sending email from {self.sender} to {self.recipient}\")\n",
        "    print(f\"Subject: {self.subject}\")\n",
        "    print(f\"Message: {self.message}\")\n",
        "\n",
        "  def display_email_details(self):\n",
        "    print(\"Email Details:\")\n",
        "    print(f\"From: {self.sender}\")\n",
        "    print(f\"To: {self.recipient}\")\n",
        "    print(f\"Subject: {self.subject}\")\n",
        "    print(f\"Message: {self.message}\")\n",
        "\n",
        "# Test the class and methods\n",
        "email = Email(\"sender@example.com\", \"recipient@example.com\", \"Test Email\", \"This is a test email.\")\n",
        "email.send_email()\n",
        "email.display_email_details()\n"
      ],
      "metadata": {
        "colab": {
          "base_uri": "https://localhost:8080/"
        },
        "id": "PkUj2NviMeOz",
        "outputId": "bf96b849-c177-42db-fc65-5abc62486922"
      },
      "execution_count": 23,
      "outputs": [
        {
          "output_type": "stream",
          "name": "stdout",
          "text": [
            "Sending email from sender@example.com to recipient@example.com\n",
            "Subject: Test Email\n",
            "Message: This is a test email.\n",
            "Email Details:\n",
            "From: sender@example.com\n",
            "To: recipient@example.com\n",
            "Subject: Test Email\n",
            "Message: This is a test email.\n"
          ]
        }
      ]
    },
    {
      "cell_type": "code",
      "source": [
        "# Problem 9: Social Media Profile Create a class representing a social media profile with attributes like username and posts. Implement methods to add posts, display posts, and search for posts by keyword.\n",
        "\n",
        "class SocialMediaProfile:\n",
        "  def __init__(self, username):\n",
        "    self.username = username\n",
        "    self.posts = []\n",
        "\n",
        "  def add_post(self, post_content):\n",
        "    self.posts.append(post_content)\n",
        "\n",
        "  def display_posts(self):\n",
        "    if self.posts:\n",
        "      print(f\"Posts by {self.username}:\")\n",
        "      for post in self.posts:\n",
        "        print(f\"- {post}\")\n",
        "    else:\n",
        "      print(f\"{self.username} has no posts yet.\")\n",
        "\n",
        "  def search_posts(self, keyword):\n",
        "    matching_posts = [post for post in self.posts if keyword.lower() in post.lower()]\n",
        "    if matching_posts:\n",
        "      print(f\"Posts by {self.username} containing '{keyword}':\")\n",
        "      for post in matching_posts:\n",
        "        print(f\"- {post}\")\n",
        "    else:\n",
        "      print(f\"No posts by {self.username} contain '{keyword}'.\")\n",
        "\n",
        "# Test the class and methods\n",
        "profile = SocialMediaProfile(\"user123\")\n",
        "profile.add_post(\"Hello, world!\")\n",
        "profile.add_post(\"This is my first post.\")\n",
        "profile.display_posts()\n",
        "\n",
        "profile.search_posts(\"first\")\n",
        "profile.search_posts(\"hello\")\n"
      ],
      "metadata": {
        "colab": {
          "base_uri": "https://localhost:8080/"
        },
        "id": "210e5NPBMeU_",
        "outputId": "8b8dc757-d959-4119-d23d-1c790c41d5db"
      },
      "execution_count": 24,
      "outputs": [
        {
          "output_type": "stream",
          "name": "stdout",
          "text": [
            "Posts by user123:\n",
            "- Hello, world!\n",
            "- This is my first post.\n",
            "Posts by user123 containing 'first':\n",
            "- This is my first post.\n",
            "Posts by user123 containing 'hello':\n",
            "- Hello, world!\n"
          ]
        }
      ]
    },
    {
      "cell_type": "code",
      "source": [
        "# Problem 10: ToDo List Create a class representing a ToDo list with attributes like tasks and due dates. Implement methods to add tasks, mark tasks as completed, and display pending tasks.\n",
        "\n",
        "class ToDoList:\n",
        "  def __init__(self):\n",
        "    self.tasks = {}\n",
        "\n",
        "  def add_task(self, task, due_date):\n",
        "    self.tasks[task] = due_date\n",
        "\n",
        "  def mark_task_as_completed(self, task):\n",
        "    if task in self.tasks:\n",
        "      del self.tasks[task]\n",
        "    else:\n",
        "      print(\"Task not found.\")\n",
        "\n",
        "  def display_pending_tasks(self):\n",
        "    if self.tasks:\n",
        "      print(\"Pending tasks:\")\n",
        "      for task, due_date in self.tasks.items():\n",
        "        print(f\"- {task} (due date: {due_date})\")\n",
        "    else:\n",
        "      print(\"No pending tasks.\")\n",
        "\n",
        "# Test the class and methods\n",
        "todo_list = ToDoList()\n",
        "todo_list.add_task(\"Grocery shopping\", \"2023-12-31\")\n",
        "todo_list.add_task(\"Book doctor appointment\", \"2024-01-15\")\n",
        "todo_list.display_pending_tasks()\n",
        "\n",
        "todo_list.mark_task_as_completed(\"Grocery shopping\")\n",
        "todo_list.display_pending_tasks()\n"
      ],
      "metadata": {
        "colab": {
          "base_uri": "https://localhost:8080/"
        },
        "id": "r1TRYfSKMebn",
        "outputId": "32e0bcc4-0a22-477c-8e0b-c085474e2372"
      },
      "execution_count": 25,
      "outputs": [
        {
          "output_type": "stream",
          "name": "stdout",
          "text": [
            "Pending tasks:\n",
            "- Grocery shopping (due date: 2023-12-31)\n",
            "- Book doctor appointment (due date: 2024-01-15)\n",
            "Pending tasks:\n",
            "- Book doctor appointment (due date: 2024-01-15)\n"
          ]
        }
      ]
    }
  ]
}